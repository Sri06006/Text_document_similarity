{
 "cells": [
  {
   "cell_type": "code",
   "execution_count": 1,
   "metadata": {
    "collapsed": true
   },
   "outputs": [],
   "source": [
    "import numpy as np\n",
    "import pandas as pd\n",
    "import nltk\n",
    "from nltk.corpus import wordnet as wn"
   ]
  },
  {
   "cell_type": "code",
   "execution_count": 7,
   "metadata": {
    "collapsed": true
   },
   "outputs": [],
   "source": [
    "def convert_tag(tag):\n",
    "    \"\"\"Convert the tag given by nltk.pos_tag to the tag used by wordnet.synsets\"\"\"\n",
    "    \n",
    "    tag_dict = {'N': 'n', 'J': 'a', 'R': 'r', 'V': 'v'}\n",
    "    try:\n",
    "        return tag_dict[tag[0]]\n",
    "    except KeyError:\n",
    "        return None\n"
   ]
  },
  {
   "cell_type": "code",
   "execution_count": 29,
   "metadata": {
    "collapsed": true
   },
   "outputs": [],
   "source": [
    "def doc_to_synsets(s1):\n",
    "    token = nltk.word_tokenize(s1)\n",
    "    pos = nltk.pos_tag(token)\n",
    "    tags = [tag[1] for tag in pos]\n",
    "    wntag = [convert_tag(tag)for tag in tags]\n",
    "    ans = list(zip(token,wntag))\n",
    "    sets = [wn.synsets(x,y)for x,y in ans]\n",
    "    final = [val[0]for val in sets if len(val) > 0]\n",
    "    return final"
   ]
  },
  {
   "cell_type": "code",
   "execution_count": 30,
   "metadata": {},
   "outputs": [],
   "source": [
    "s1 = doc_to_synsets(\"I like dogs\")\n",
    "s2 = doc_to_synsets(\"I like cats\")"
   ]
  },
  {
   "cell_type": "code",
   "execution_count": 33,
   "metadata": {
    "collapsed": true
   },
   "outputs": [],
   "source": [
    "def similarity_score(s1,s2):\n",
    "    s = []\n",
    "    for i1 in s1:\n",
    "        r = []\n",
    "        scores = [x for x in [i1.path_similarity(i2) for i2 in s2] if x is not None]\n",
    "        if scores:\n",
    "            s.append(max(scores))\n",
    "    \n",
    "    \n",
    "    return sum(s)/len(s)\n"
   ]
  },
  {
   "cell_type": "code",
   "execution_count": 34,
   "metadata": {},
   "outputs": [
    {
     "data": {
      "text/plain": [
       "0.7333333333333334"
      ]
     },
     "execution_count": 34,
     "metadata": {},
     "output_type": "execute_result"
    }
   ],
   "source": [
    "similarity_score(s1, s2)"
   ]
  },
  {
   "cell_type": "code",
   "execution_count": 36,
   "metadata": {},
   "outputs": [],
   "source": [
    "def document_path_similarity(doc1, doc2):\n",
    "    \"\"\"Finds the symmetrical similarity between doc1 and doc2\"\"\"\n",
    "\n",
    "    synsets1 = doc_to_synsets(doc1)\n",
    "    synsets2 = doc_to_synsets(doc2)\n",
    "\n",
    "    return (similarity_score(synsets1, synsets2) + similarity_score(synsets2, synsets1)) / 2"
   ]
  },
  {
   "cell_type": "code",
   "execution_count": 45,
   "metadata": {
    "collapsed": true
   },
   "outputs": [],
   "source": [
    "paraphrases = pd.read_csv(\"paraphrases.csv\")"
   ]
  },
  {
   "cell_type": "code",
   "execution_count": 46,
   "metadata": {},
   "outputs": [
    {
     "data": {
      "text/html": [
       "<div>\n",
       "<style scoped>\n",
       "    .dataframe tbody tr th:only-of-type {\n",
       "        vertical-align: middle;\n",
       "    }\n",
       "\n",
       "    .dataframe tbody tr th {\n",
       "        vertical-align: top;\n",
       "    }\n",
       "\n",
       "    .dataframe thead th {\n",
       "        text-align: right;\n",
       "    }\n",
       "</style>\n",
       "<table border=\"1\" class=\"dataframe\">\n",
       "  <thead>\n",
       "    <tr style=\"text-align: right;\">\n",
       "      <th></th>\n",
       "      <th>Quality</th>\n",
       "      <th>D1</th>\n",
       "      <th>D2</th>\n",
       "    </tr>\n",
       "  </thead>\n",
       "  <tbody>\n",
       "    <tr>\n",
       "      <th>0</th>\n",
       "      <td>1</td>\n",
       "      <td>Ms Stewart, the chief executive, was not expec...</td>\n",
       "      <td>Ms Stewart, 61, its chief executive officer an...</td>\n",
       "    </tr>\n",
       "    <tr>\n",
       "      <th>1</th>\n",
       "      <td>1</td>\n",
       "      <td>After more than two years' detention under the...</td>\n",
       "      <td>After more than two years in detention by the ...</td>\n",
       "    </tr>\n",
       "    <tr>\n",
       "      <th>2</th>\n",
       "      <td>1</td>\n",
       "      <td>\"It still remains to be seen whether the reven...</td>\n",
       "      <td>\"It remains to be seen whether the revenue rec...</td>\n",
       "    </tr>\n",
       "    <tr>\n",
       "      <th>3</th>\n",
       "      <td>0</td>\n",
       "      <td>And it's going to be a wild ride,\" said Allan ...</td>\n",
       "      <td>Now the rest is just mechanical,\" said Allan H...</td>\n",
       "    </tr>\n",
       "    <tr>\n",
       "      <th>4</th>\n",
       "      <td>1</td>\n",
       "      <td>The cards are issued by Mexico's consulates to...</td>\n",
       "      <td>The card is issued by Mexico's consulates to i...</td>\n",
       "    </tr>\n",
       "  </tbody>\n",
       "</table>\n",
       "</div>"
      ],
      "text/plain": [
       "   Quality                                                 D1  \\\n",
       "0        1  Ms Stewart, the chief executive, was not expec...   \n",
       "1        1  After more than two years' detention under the...   \n",
       "2        1  \"It still remains to be seen whether the reven...   \n",
       "3        0  And it's going to be a wild ride,\" said Allan ...   \n",
       "4        1  The cards are issued by Mexico's consulates to...   \n",
       "\n",
       "                                                  D2  \n",
       "0  Ms Stewart, 61, its chief executive officer an...  \n",
       "1  After more than two years in detention by the ...  \n",
       "2  \"It remains to be seen whether the revenue rec...  \n",
       "3  Now the rest is just mechanical,\" said Allan H...  \n",
       "4  The card is issued by Mexico's consulates to i...  "
      ]
     },
     "execution_count": 46,
     "metadata": {},
     "output_type": "execute_result"
    }
   ],
   "source": [
    "paraphrases.head()"
   ]
  },
  {
   "cell_type": "code",
   "execution_count": 47,
   "metadata": {
    "collapsed": true
   },
   "outputs": [],
   "source": [
    "def most_similar_docs():\n",
    "    similarities = [(paraphrase['D1'],paraphrase['D2'],document_path_similarity(paraphrase['D1'],paraphrase['D2'])) \\\n",
    "                  for index, paraphrase in paraphrases.iterrows()]\n",
    "    similarity = max(similarities,key=lambda item:item[2])\n",
    "    return similarity\n",
    "    \n"
   ]
  },
  {
   "cell_type": "code",
   "execution_count": 48,
   "metadata": {},
   "outputs": [
    {
     "data": {
      "text/plain": [
       "('\"Indeed, Iran should be put on notice that efforts to try to remake Iraq in their image will be aggressively put down,\" he said.',\n",
       " '\"Iran should be on notice that attempts to remake Iraq in Iran\\'s image will be aggressively put down,\" he said.\\n',\n",
       " 0.9753086419753086)"
      ]
     },
     "execution_count": 48,
     "metadata": {},
     "output_type": "execute_result"
    }
   ],
   "source": [
    "most_similar_docs()\n"
   ]
  },
  {
   "cell_type": "code",
   "execution_count": 52,
   "metadata": {
    "collapsed": true
   },
   "outputs": [],
   "source": [
    "def label_accuracy():\n",
    "    from sklearn.metrics import accuracy_score\n",
    "    df = paraphrases.apply(update_score,axis=1)\n",
    "    score = accuracy_score(df['Quality'].tolist(),df['paraphrase'].tolist())\n",
    "    return score\n",
    "    \n",
    "def update_score(row):\n",
    "    row['similarity_score'] = document_path_similarity(row['D1'],row['D2'])\n",
    "    row['paraphrase'] = 1 if row['similarity_score'] > 0.75 else 0\n",
    "    return row"
   ]
  },
  {
   "cell_type": "code",
   "execution_count": 53,
   "metadata": {},
   "outputs": [
    {
     "data": {
      "text/html": [
       "<div>\n",
       "<style scoped>\n",
       "    .dataframe tbody tr th:only-of-type {\n",
       "        vertical-align: middle;\n",
       "    }\n",
       "\n",
       "    .dataframe tbody tr th {\n",
       "        vertical-align: top;\n",
       "    }\n",
       "\n",
       "    .dataframe thead th {\n",
       "        text-align: right;\n",
       "    }\n",
       "</style>\n",
       "<table border=\"1\" class=\"dataframe\">\n",
       "  <thead>\n",
       "    <tr style=\"text-align: right;\">\n",
       "      <th></th>\n",
       "      <th>Quality</th>\n",
       "      <th>D1</th>\n",
       "      <th>D2</th>\n",
       "      <th>similarity_score</th>\n",
       "      <th>paraphrase</th>\n",
       "    </tr>\n",
       "  </thead>\n",
       "  <tbody>\n",
       "    <tr>\n",
       "      <th>0</th>\n",
       "      <td>1</td>\n",
       "      <td>Ms Stewart, the chief executive, was not expec...</td>\n",
       "      <td>Ms Stewart, 61, its chief executive officer an...</td>\n",
       "      <td>0.671682</td>\n",
       "      <td>0</td>\n",
       "    </tr>\n",
       "    <tr>\n",
       "      <th>1</th>\n",
       "      <td>1</td>\n",
       "      <td>After more than two years' detention under the...</td>\n",
       "      <td>After more than two years in detention by the ...</td>\n",
       "      <td>0.900198</td>\n",
       "      <td>1</td>\n",
       "    </tr>\n",
       "    <tr>\n",
       "      <th>2</th>\n",
       "      <td>1</td>\n",
       "      <td>\"It still remains to be seen whether the reven...</td>\n",
       "      <td>\"It remains to be seen whether the revenue rec...</td>\n",
       "      <td>0.856672</td>\n",
       "      <td>1</td>\n",
       "    </tr>\n",
       "    <tr>\n",
       "      <th>3</th>\n",
       "      <td>0</td>\n",
       "      <td>And it's going to be a wild ride,\" said Allan ...</td>\n",
       "      <td>Now the rest is just mechanical,\" said Allan H...</td>\n",
       "      <td>0.786176</td>\n",
       "      <td>1</td>\n",
       "    </tr>\n",
       "    <tr>\n",
       "      <th>4</th>\n",
       "      <td>1</td>\n",
       "      <td>The cards are issued by Mexico's consulates to...</td>\n",
       "      <td>The card is issued by Mexico's consulates to i...</td>\n",
       "      <td>0.929902</td>\n",
       "      <td>1</td>\n",
       "    </tr>\n",
       "    <tr>\n",
       "      <th>5</th>\n",
       "      <td>1</td>\n",
       "      <td>Their difference was over whether the court sh...</td>\n",
       "      <td>Their difference was over whether the court sh...</td>\n",
       "      <td>0.843180</td>\n",
       "      <td>1</td>\n",
       "    </tr>\n",
       "    <tr>\n",
       "      <th>6</th>\n",
       "      <td>1</td>\n",
       "      <td>The only announced Republican to replace Davis...</td>\n",
       "      <td>So far the only declared major party candidate...</td>\n",
       "      <td>0.802245</td>\n",
       "      <td>1</td>\n",
       "    </tr>\n",
       "    <tr>\n",
       "      <th>7</th>\n",
       "      <td>1</td>\n",
       "      <td>Druce will face murder charges, Conte said.</td>\n",
       "      <td>Conte said Druce will be charged with murder.\\n</td>\n",
       "      <td>0.670758</td>\n",
       "      <td>0</td>\n",
       "    </tr>\n",
       "    <tr>\n",
       "      <th>8</th>\n",
       "      <td>0</td>\n",
       "      <td>\"It's a major victory for Maine, and it's a ma...</td>\n",
       "      <td>The Maine program could be a model for other s...</td>\n",
       "      <td>0.633661</td>\n",
       "      <td>0</td>\n",
       "    </tr>\n",
       "    <tr>\n",
       "      <th>9</th>\n",
       "      <td>1</td>\n",
       "      <td>Microsoft said Friday that it is halting devel...</td>\n",
       "      <td>Microsoft will stop developing versions of its...</td>\n",
       "      <td>0.761542</td>\n",
       "      <td>1</td>\n",
       "    </tr>\n",
       "    <tr>\n",
       "      <th>10</th>\n",
       "      <td>0</td>\n",
       "      <td>New legit download service launches with PC us...</td>\n",
       "      <td>BuyMusic is the first subscription-free paid d...</td>\n",
       "      <td>0.560643</td>\n",
       "      <td>0</td>\n",
       "    </tr>\n",
       "    <tr>\n",
       "      <th>11</th>\n",
       "      <td>0</td>\n",
       "      <td>All patients developed some or all of the symp...</td>\n",
       "      <td>Symptoms of the E. coli infection include bloo...</td>\n",
       "      <td>0.679575</td>\n",
       "      <td>0</td>\n",
       "    </tr>\n",
       "    <tr>\n",
       "      <th>12</th>\n",
       "      <td>0</td>\n",
       "      <td>Nine years ago, they were married by a justice...</td>\n",
       "      <td>His wife, married to Moore by a justice of the...</td>\n",
       "      <td>0.615270</td>\n",
       "      <td>0</td>\n",
       "    </tr>\n",
       "    <tr>\n",
       "      <th>13</th>\n",
       "      <td>1</td>\n",
       "      <td>\"Indeed, Iran should be put on notice that eff...</td>\n",
       "      <td>\"Iran should be on notice that attempts to rem...</td>\n",
       "      <td>0.975309</td>\n",
       "      <td>1</td>\n",
       "    </tr>\n",
       "    <tr>\n",
       "      <th>14</th>\n",
       "      <td>0</td>\n",
       "      <td>The euro tagged another record high against th...</td>\n",
       "      <td>The euro ros further into record territory on ...</td>\n",
       "      <td>0.737422</td>\n",
       "      <td>0</td>\n",
       "    </tr>\n",
       "    <tr>\n",
       "      <th>15</th>\n",
       "      <td>0</td>\n",
       "      <td>US Special Forces troops are training Colombia...</td>\n",
       "      <td>U.S. Special Forces troops are training Colomb...</td>\n",
       "      <td>0.843720</td>\n",
       "      <td>1</td>\n",
       "    </tr>\n",
       "    <tr>\n",
       "      <th>16</th>\n",
       "      <td>0</td>\n",
       "      <td>The constitutionality of outlawing partial bir...</td>\n",
       "      <td>Defenders of the partial birth abortion ban do...</td>\n",
       "      <td>0.501099</td>\n",
       "      <td>0</td>\n",
       "    </tr>\n",
       "    <tr>\n",
       "      <th>17</th>\n",
       "      <td>0</td>\n",
       "      <td>Sun was the lone major vendor to see its shipm...</td>\n",
       "      <td>IBM (NYSE: IBM)  was the fastest-growing vendo...</td>\n",
       "      <td>0.558911</td>\n",
       "      <td>0</td>\n",
       "    </tr>\n",
       "    <tr>\n",
       "      <th>18</th>\n",
       "      <td>0</td>\n",
       "      <td>On Monday the Palestinian Prime Minister, Mahm...</td>\n",
       "      <td>Palestinian Prime Minister Mahmoud Abbas must ...</td>\n",
       "      <td>0.604793</td>\n",
       "      <td>0</td>\n",
       "    </tr>\n",
       "    <tr>\n",
       "      <th>19</th>\n",
       "      <td>1</td>\n",
       "      <td>The NASD also alleges Young flew multiple time...</td>\n",
       "      <td>The NASD alleges that the analyst flew multipl...</td>\n",
       "      <td>0.804329</td>\n",
       "      <td>1</td>\n",
       "    </tr>\n",
       "  </tbody>\n",
       "</table>\n",
       "</div>"
      ],
      "text/plain": [
       "    Quality                                                 D1  \\\n",
       "0         1  Ms Stewart, the chief executive, was not expec...   \n",
       "1         1  After more than two years' detention under the...   \n",
       "2         1  \"It still remains to be seen whether the reven...   \n",
       "3         0  And it's going to be a wild ride,\" said Allan ...   \n",
       "4         1  The cards are issued by Mexico's consulates to...   \n",
       "5         1  Their difference was over whether the court sh...   \n",
       "6         1  The only announced Republican to replace Davis...   \n",
       "7         1        Druce will face murder charges, Conte said.   \n",
       "8         0  \"It's a major victory for Maine, and it's a ma...   \n",
       "9         1  Microsoft said Friday that it is halting devel...   \n",
       "10        0  New legit download service launches with PC us...   \n",
       "11        0  All patients developed some or all of the symp...   \n",
       "12        0  Nine years ago, they were married by a justice...   \n",
       "13        1  \"Indeed, Iran should be put on notice that eff...   \n",
       "14        0  The euro tagged another record high against th...   \n",
       "15        0  US Special Forces troops are training Colombia...   \n",
       "16        0  The constitutionality of outlawing partial bir...   \n",
       "17        0  Sun was the lone major vendor to see its shipm...   \n",
       "18        0  On Monday the Palestinian Prime Minister, Mahm...   \n",
       "19        1  The NASD also alleges Young flew multiple time...   \n",
       "\n",
       "                                                   D2  similarity_score  \\\n",
       "0   Ms Stewart, 61, its chief executive officer an...          0.671682   \n",
       "1   After more than two years in detention by the ...          0.900198   \n",
       "2   \"It remains to be seen whether the revenue rec...          0.856672   \n",
       "3   Now the rest is just mechanical,\" said Allan H...          0.786176   \n",
       "4   The card is issued by Mexico's consulates to i...          0.929902   \n",
       "5   Their difference was over whether the court sh...          0.843180   \n",
       "6   So far the only declared major party candidate...          0.802245   \n",
       "7     Conte said Druce will be charged with murder.\\n          0.670758   \n",
       "8   The Maine program could be a model for other s...          0.633661   \n",
       "9   Microsoft will stop developing versions of its...          0.761542   \n",
       "10  BuyMusic is the first subscription-free paid d...          0.560643   \n",
       "11  Symptoms of the E. coli infection include bloo...          0.679575   \n",
       "12  His wife, married to Moore by a justice of the...          0.615270   \n",
       "13  \"Iran should be on notice that attempts to rem...          0.975309   \n",
       "14  The euro ros further into record territory on ...          0.737422   \n",
       "15  U.S. Special Forces troops are training Colomb...          0.843720   \n",
       "16  Defenders of the partial birth abortion ban do...          0.501099   \n",
       "17  IBM (NYSE: IBM)  was the fastest-growing vendo...          0.558911   \n",
       "18  Palestinian Prime Minister Mahmoud Abbas must ...          0.604793   \n",
       "19  The NASD alleges that the analyst flew multipl...          0.804329   \n",
       "\n",
       "    paraphrase  \n",
       "0            0  \n",
       "1            1  \n",
       "2            1  \n",
       "3            1  \n",
       "4            1  \n",
       "5            1  \n",
       "6            1  \n",
       "7            0  \n",
       "8            0  \n",
       "9            1  \n",
       "10           0  \n",
       "11           0  \n",
       "12           0  \n",
       "13           1  \n",
       "14           0  \n",
       "15           1  \n",
       "16           0  \n",
       "17           0  \n",
       "18           0  \n",
       "19           1  "
      ]
     },
     "execution_count": 53,
     "metadata": {},
     "output_type": "execute_result"
    }
   ],
   "source": [
    "label_accuracy()"
   ]
  },
  {
   "cell_type": "code",
   "execution_count": null,
   "metadata": {
    "collapsed": true
   },
   "outputs": [],
   "source": []
  }
 ],
 "metadata": {
  "kernelspec": {
   "display_name": "Python 3",
   "language": "python",
   "name": "python3"
  },
  "language_info": {
   "codemirror_mode": {
    "name": "ipython",
    "version": 3
   },
   "file_extension": ".py",
   "mimetype": "text/x-python",
   "name": "python",
   "nbconvert_exporter": "python",
   "pygments_lexer": "ipython3",
   "version": "3.6.4"
  }
 },
 "nbformat": 4,
 "nbformat_minor": 2
}
